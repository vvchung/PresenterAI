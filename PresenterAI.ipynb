{
  "cells": [
    {
      "cell_type": "markdown",
      "metadata": {
        "id": "WxsvjOYpUNrm"
      },
      "source": [
        "# 使用您自己的聲音報告PowerPoint內容的簡報影片生成器\n",
        "\n",
        "這個 Google Colab Notebook 將引導您完成以下步驟：\n",
        "1. **安裝必要的套件**：包括用於處理PowerPoint、音訊和影片的程式庫。\n",
        "2. **上傳檔案**：您需要上傳您的 PowerPoint (.pptx) 檔案和一段您聲音的音訊樣本 (.wav)。\n",
        "3. **設定 F5-TTS 模型**：這是一個先進的文字轉語音模型，可以用您的聲音樣本來複製語音。\n",
        "4. **從 PowerPoint 提取筆記**：程式將讀取您在每張投影片筆記區塊中的文字。\n",
        "5. **生成語音**：使用 F5-TTS 和您上傳的聲音，為每張投影片的筆記生成對應的語音檔。\n",
        "6. **將 PowerPoint 轉換為圖片**：每張投影片將被存成一張圖片。\n",
        "7. **合成影片**：將每張投影片的圖片和對應的語音合成為一個影片片段。\n",
        "8. **合併並下載**：將所有影片片段合併成一個最終的簡報影片，並提供下載連結。"
      ]
    },
    {
      "cell_type": "code",
      "execution_count": null,
      "metadata": {
        "id": "install_dependencies"
      },
      "outputs": [],
      "source": [
        "# @title 1. 安裝所有必要的套件\n",
        "# @markdown 請執行此儲存格來安裝所有需要的程式庫。這可能需要幾分鐘的時間。\n",
        "print(\"正在安裝 F5-TTS 及其相關套件...\")\n",
        "!git clone https://github.com/SWivid/F5-TTS.git\n",
        "%cd F5-TTS\n",
        "!pip install -e .\n",
        "!pip install gradio\n",
        "\n",
        "print(\"正在安裝簡報和影片處理相關套件...\")\n",
        "!pip install python-pptx\n",
        "!pip install pdf2image\n",
        "!pip install moviepy\n",
        "!sudo apt-get install poppler-utils libreoffice\n",
        "\n",
        "print(\"安裝完成！\")"
      ]
    },
    {
      "cell_type": "code",
      "execution_count": null,
      "metadata": {
        "id": "upload_files"
      },
      "outputs": [],
      "source": [
        "# @title 2. 上傳您的 PowerPoint 和聲音檔案\n",
        "# @markdown 請執行此儲存格，然後點擊「選擇檔案」按鈕來上傳您的 .pptx 簡報檔案和 .wav 聲音樣本。\n",
        "from google.colab import files\n",
        "import os\n",
        "\n",
        "print(\"請上傳您的 PowerPoint (.pptx) 檔案：\")\n",
        "uploaded_ppt = files.upload()\n",
        "ppt_filename = list(uploaded_ppt.keys())[0]\n",
        "os.rename(ppt_filename, 'presentation.pptx')\n",
        "print(f\"已上傳簡報檔案：{ppt_filename}\")\n",
        "\n",
        "print(\"\\n請上傳您的聲音樣本 (.wav) 檔案 (建議5-15秒)：\")\n",
        "uploaded_audio = files.upload()\n",
        "audio_filename = list(uploaded_audio.keys())[0]\n",
        "os.rename(audio_filename, 'reference.wav')\n",
        "print(f\"已上傳聲音樣本：{audio_filename}\")"
      ]
    },
    {
      "cell_type": "code",
      "execution_count": null,
      "metadata": {
        "id": "extract_notes_and_convert_ppt"
      },
      "outputs": [],
      "source": [
        "# @title 3. 處理 PowerPoint 檔案\n",
        "# @markdown 這個儲存格會執行兩個主要任務：\n",
        "# @markdown 1. 將您的 .pptx 檔案轉換為 PDF，然後再轉存為一系列的圖片 (每張投影片一張)。\n",
        "# @markdown 2. 提取每張投影片下方的「演講者備忘稿」，這些文字將被用來生成語音。\n",
        "\n",
        "import os\n",
        "from pptx import Presentation\n",
        "from pdf2image import convert_from_path\n",
        "import subprocess\n",
        "\n",
        "# 建立輸出資料夾\n",
        "os.makedirs('slides', exist_ok=True)\n",
        "os.makedirs('audio_outputs', exist_ok=True)\n",
        "os.makedirs('video_outputs', exist_ok=True)\n",
        "\n",
        "# 將 PPTX 轉換為 PDF\n",
        "print(\"正在將 PowerPoint 轉換為 PDF...\")\n",
        "subprocess.run(['libreoffice', '--headless', '--convert-to', 'pdf', 'presentation.pptx'])\n",
        "\n",
        "# 將 PDF 轉換為圖片\n",
        "print(\"正在將 PDF 轉換為圖片...\")\n",
        "images = convert_from_path('presentation.pdf')\n",
        "for i, image in enumerate(images):\n",
        "    image.save(f'slides/slide_{i:03d}.png', 'PNG')\n",
        "print(f\"已成功將 {len(images)} 張投影片轉換為圖片。\")\n",
        "\n",
        "# 提取筆記\n",
        "print(\"\\n正在提取投影片筆記...\")\n",
        "prs = Presentation('presentation.pptx')\n",
        "slide_notes = []\n",
        "for i, slide in enumerate(prs.slides):\n",
        "    notes = slide.notes_slide.notes_text_frame.text if slide.has_notes_slide else \"\"\n",
        "    slide_notes.append(notes)\n",
        "    print(f\"投影片 {i+1} 的筆記： {notes}\")\n",
        "\n",
        "print(\"\\nPowerPoint 處理完成！\")"
      ]
    },
    {
      "cell_type": "code",
      "execution_count": null,
      "metadata": {
        "id": "generate_audio_files"
      },
      "outputs": [],
      "source": [
        "# @title 4. 使用 F5-TTS 生成語音\n",
        "# @markdown 現在，我們將使用您上傳的聲音樣本為每一張投影片的筆記生成語音檔。\n",
        "# @markdown 這個過程可能需要一些時間，具體取決於您的簡報長度。\n",
        "\n",
        "import torch\n",
        "import subprocess\n",
        "import shlex\n",
        "\n",
        "for i, note in enumerate(slide_notes):\n",
        "    if note.strip():\n",
        "        print(f\"正在為投影片 {i+1} 生成語音...\")\n",
        "        output_path = f\"/content/F5-TTS/audio_outputs/slide_{i:03d}.wav\"\n",
        "        # Pass command as a string and use shell=True to handle quotes and special characters\n",
        "        # Use shlex.quote to properly escape the text\n",
        "        # Corrected argument from --output_path to --output_file\n",
        "        command = f'f5-tts_infer-cli --model F5TTS_v1_Base --ref_audio \"/content/F5-TTS/reference.wav\" --gen_text {shlex.quote(note)} --output_file \"{output_path}\"'\n",
        "        try:\n",
        "            # Capture stderr to get more detailed error messages\n",
        "            result = subprocess.run(command, check=True, shell=True, capture_output=True, text=True)\n",
        "            print(f\"投影片 {i+1} 的語音已儲存至 {output_path}\")\n",
        "        except subprocess.CalledProcessError as e:\n",
        "            print(f\"為投影片 {i+1} 生成語音時發生錯誤: {e}\")\n",
        "            print(f\"錯誤輸出:\\n{e.stderr}\") # Print stderr for detailed error\n",
        "            # You might want to add more error handling here, e.g., skip this slide or stop.\n",
        "            continue # Skip to the next slide if an error occurs\n",
        "\n",
        "    else:\n",
        "        print(f\"投影片 {i+1} 沒有筆記，跳過語音生成。\")\n",
        "\n",
        "torch.cuda.empty_cache()\n",
        "print(\"\\n所有語音檔案已生成完畢！\")"
      ]
    },
    {
      "cell_type": "code",
      "execution_count": null,
      "metadata": {
        "id": "create_video_clips"
      },
      "outputs": [],
      "source": [
        "# @title 5. 合成影片片段\n",
        "# @markdown 此儲存格會將每張投影片的圖片和其對應的語音檔結合成一個個獨立的影片片段。\n",
        "\n",
        "from moviepy.editor import ImageClip, AudioFileClip, concatenate_videoclips\n",
        "import glob\n",
        "\n",
        "video_clips = []\n",
        "slide_images = sorted(glob.glob('slides/slide_*.png'))\n",
        "\n",
        "for i, slide_image_path in enumerate(slide_images):\n",
        "    audio_path = f'audio_outputs/slide_{i:03d}.wav'\n",
        "    video_path = f'video_outputs/slide_{i:03d}.mp4'\n",
        "\n",
        "    # 檢查對應的音訊是否存在\n",
        "    if os.path.exists(audio_path):\n",
        "        print(f\"正在處理投影片 {i+1}...\")\n",
        "        with AudioFileClip(audio_path) as audio_clip:\n",
        "            # 建立圖片影片，長度與音訊相同\n",
        "            image_clip = ImageClip(slide_image_path, duration=audio_clip.duration)\n",
        "            # 將音訊設定到圖片影片上\n",
        "            video_clip = image_clip.set_audio(audio_clip)\n",
        "            video_clip.fps = 24  # 設定影片的幀率\n",
        "            video_clip.write_videofile(video_path, codec='libx264')\n",
        "            video_clips.append(video_clip)\n",
        "    else:\n",
        "        # 如果沒有音訊，可以設定一個預設的顯示時間，例如5秒\n",
        "        print(f\"投影片 {i+1} 沒有對應的音訊，將以5秒的靜態圖片呈現。\")\n",
        "        image_clip = ImageClip(slide_image_path, duration=5)\n",
        "        image_clip.fps = 24\n",
        "        image_clip.write_videofile(video_path, codec='libx264')\n",
        "        video_clips.append(image_clip)\n",
        "\n",
        "print(\"\\n所有獨立的影片片段已生成！\")"
      ]
    },
    {
      "cell_type": "code",
      "execution_count": null,
      "metadata": {
        "id": "combine_and_download"
      },
      "outputs": [],
      "source": [
        "# @title 6. 合併影片並提供下載\n",
        "# @markdown 最後，我們將所有投影片的影片片段合併成一個完整的簡報影片。\n",
        "# @markdown 完成後，將會出現一個下載連結。\n",
        "\n",
        "from moviepy.editor import VideoFileClip, concatenate_videoclips\n",
        "import glob\n",
        "import os\n",
        "from google.colab import files\n",
        "\n",
        "clip_paths = sorted(glob.glob('video_outputs/slide_*.mp4'))\n",
        "\n",
        "# Load video clips from the generated files\n",
        "video_clips = [VideoFileClip(clip_path) for clip_path in clip_paths]\n",
        "\n",
        "if video_clips:\n",
        "    final_clip = concatenate_videoclips(video_clips)\n",
        "\n",
        "    final_video_path = 'final_presentation_video.mp4'\n",
        "    final_clip.write_videofile(final_video_path, codec='libx264')\n",
        "\n",
        "    print(f\"\\n🎉 恭喜！您的簡報影片已成功生成！\")\n",
        "    print(f\"檔案儲存於：{final_video_path}\")\n",
        "\n",
        "    # Provide download link\n",
        "    files.download(final_video_path)\n",
        "\n",
        "    # Close the video clips to free up resources\n",
        "    for clip in video_clips:\n",
        "        clip.close()\n",
        "else:\n",
        "    print(\"沒有找到任何影片片段，無法合併。請檢查前面的步驟是否成功。\")"
      ]
    }
  ],
  "metadata": {
    "colab": {
      "provenance": [],
      "gpuType": "T4"
    },
    "kernelspec": {
      "display_name": "Python 3",
      "name": "python3"
    },
    "language_info": {
      "name": "python"
    },
    "accelerator": "GPU"
  },
  "nbformat": 4,
  "nbformat_minor": 0
}